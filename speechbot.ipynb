{
 "cells": [
  {
   "cell_type": "markdown",
   "metadata": {},
   "source": [
    "# Building your own Speech to Text Chatbot"
   ]
  },
  {
   "cell_type": "markdown",
   "metadata": {},
   "source": [
    "In your folder:\n",
    "pip install -r requirements.txt"
   ]
  },
  {
   "cell_type": "markdown",
   "metadata": {},
   "source": [
    "### Gradio User Interface\n",
    "Create a user interface that captures voice through microphone recording\n",
    "* Gradio allows users to easily create a simple user interface for Machine Learning and Data Science Demos"
   ]
  },
  {
   "cell_type": "code",
   "execution_count": 1,
   "metadata": {},
   "outputs": [
    {
     "name": "stderr",
     "output_type": "stream",
     "text": [
      "/Users/florence.yeung/opt/anaconda3/envs/constitutionalai/lib/python3.10/site-packages/tqdm/auto.py:21: TqdmWarning: IProgress not found. Please update jupyter and ipywidgets. See https://ipywidgets.readthedocs.io/en/stable/user_install.html\n",
      "  from .autonotebook import tqdm as notebook_tqdm\n"
     ]
    }
   ],
   "source": [
    "# Importing all necessary packages\n",
    "import gradio as gr\n",
    "import openai\n",
    "import subprocess"
   ]
  },
  {
   "cell_type": "code",
   "execution_count": 11,
   "metadata": {},
   "outputs": [
    {
     "name": "stdout",
     "output_type": "stream",
     "text": [
      "Running on local URL:  http://127.0.0.1:7862\n",
      "\n",
      "To create a public link, set `share=True` in `launch()`.\n"
     ]
    },
    {
     "data": {
      "text/html": [
       "<div><iframe src=\"http://127.0.0.1:7862/\" width=\"100%\" height=\"500\" allow=\"autoplay; camera; microphone; clipboard-read; clipboard-write;\" frameborder=\"0\" allowfullscreen></iframe></div>"
      ],
      "text/plain": [
       "<IPython.core.display.HTML object>"
      ]
     },
     "metadata": {},
     "output_type": "display_data"
    },
    {
     "data": {
      "text/plain": []
     },
     "execution_count": 11,
     "metadata": {},
     "output_type": "execute_result"
    },
    {
     "name": "stderr",
     "output_type": "stream",
     "text": [
      "/Users/florence.yeung/opt/anaconda3/envs/constitutionalai/lib/python3.10/site-packages/gradio/processing_utils.py:176: UserWarning: Trying to convert audio automatically from int32 to 16-bit int format.\n",
      "  warnings.warn(warning.format(data.dtype))\n"
     ]
    },
    {
     "name": "stdout",
     "output_type": "stream",
     "text": [
      "/var/folders/nl/db9b7q8n36gf3gtwfmrrlfrm0000gn/T/gradio/6f7b77b8f42cf4b606f591d1f3d72f21049846d2/audio-0-100.wav\n"
     ]
    }
   ],
   "source": [
    "# Defining a function that takes in the input audio file\n",
    "def user_transcription(audio_file):\n",
    "    \n",
    "    # print the audio file name and location\n",
    "    print(audio_file)\n",
    "    \n",
    "    # Return the text \"Audio Transcript Output\" on the UI\n",
    "    return \"Audio Transcript Output\"\n",
    "\n",
    "# Setting the input as an audio input\n",
    "# Setting the output as a text output\n",
    "gradio_ui = gr.Interface(fn=user_transcription, inputs=gr.Audio(source=\"microphone\", type = \"filepath\"), outputs=\"text\")\n",
    "gradio_ui.launch()\n",
    "\n",
    "# To make sure this works, copy the local URL onto a new browser"
   ]
  },
  {
   "cell_type": "markdown",
   "metadata": {},
   "source": [
    "### OpenAI Whisper\n",
    "The Whisper model transcribes audio and is able to translate audio and transcribe to English."
   ]
  },
  {
   "cell_type": "code",
   "execution_count": 12,
   "metadata": {},
   "outputs": [
    {
     "name": "stdout",
     "output_type": "stream",
     "text": [
      "A long time ago in a galaxy far, far away.\n"
     ]
    }
   ],
   "source": [
    "#https://platform.openai.com/docs/guides/speech-to-text/quickstart\n",
    "\n",
    "# Takes in an audio file\n",
    "audio_file= open(\"audio.mp3\", \"rb\")\n",
    "\n",
    "# Transcribes\n",
    "transcript = openai.Audio.transcribe(\"whisper-1\", audio_file)\n",
    "print(transcript['text'])"
   ]
  },
  {
   "cell_type": "markdown",
   "metadata": {},
   "source": [
    "### OpenAI Chat\n",
    "\n",
    "Using the OpenAI Chat Completions API "
   ]
  },
  {
   "cell_type": "code",
   "execution_count": 13,
   "metadata": {},
   "outputs": [],
   "source": [
    "# Messages that contain the chat history\n",
    "messages = [\n",
    "        {\"role\": \"system\", \"content\": \"You are a therapist that talks in the style of rapper\"},\n",
    "        {\"role\": \"user\", \"content\": \"I'm sad, what should I do?\"},\n",
    "        {\"role\": \"assistant\", \"content\": \"Reach out to someone you trust and share your feelings.\"},\n",
    "        {\"role\": \"user\", \"content\": \"There isn't anyone I can reach out to, what else should I do?\"}\n",
    "    ]\n",
    "\n",
    "response = openai.ChatCompletion.create(\n",
    "    # Define the model you want to use\n",
    "  model=\"gpt-3.5-turbo\",\n",
    "  messages=messages\n",
    ")"
   ]
  },
  {
   "cell_type": "code",
   "execution_count": 14,
   "metadata": {},
   "outputs": [
    {
     "name": "stdout",
     "output_type": "stream",
     "text": [
      "{\n",
      "  \"role\": \"assistant\",\n",
      "  \"content\": \"Take some time to reflect on your thoughts and feelings, write them down in a journal. Find ways to release your emotions, like through music or art. Seek professional help, therapy's always a good start. Remember, you're not alone, there's always hope.\"\n",
      "}\n"
     ]
    }
   ],
   "source": [
    "# Printing out the response\n",
    "print(response['choices'][0]['message'])"
   ]
  },
  {
   "cell_type": "code",
   "execution_count": 15,
   "metadata": {},
   "outputs": [
    {
     "name": "stdout",
     "output_type": "stream",
     "text": [
      "Take some time to reflect on your thoughts and feelings, write them down in a journal. Find ways to release your emotions, like through music or art. Seek professional help, therapy's always a good start. Remember, you're not alone, there's always hope.\n"
     ]
    }
   ],
   "source": [
    "print(response['choices'][0]['message']['content'])"
   ]
  },
  {
   "cell_type": "code",
   "execution_count": 8,
   "metadata": {},
   "outputs": [],
   "source": [
    "# Adding the response into the chat history\n",
    "messages.append(response['choices'][0]['message'])"
   ]
  },
  {
   "cell_type": "code",
   "execution_count": 9,
   "metadata": {},
   "outputs": [],
   "source": [
    "# Cleaning up the chat history to remove the system message and take the text content out as text\n",
    "\n",
    "chat_transcript = \"\"\n",
    "for message in messages:\n",
    "    if message['role'] != 'system':\n",
    "        chat_transcript += message['role'] + \": \" + message['content'] + \"\\n\\n\""
   ]
  },
  {
   "cell_type": "code",
   "execution_count": 10,
   "metadata": {},
   "outputs": [
    {
     "name": "stdout",
     "output_type": "stream",
     "text": [
      "user: I'm sad, what should I do?\n",
      "\n",
      "assistant: Reach out to someone you trust and share your feelings.\n",
      "\n",
      "user: There isn't anyone I can reach out to, what else should I do?\n",
      "\n",
      "assistant: Write out your thoughts and feelings, get them down on paper\n",
      "Then read it over, see it's just a vapor\n",
      "Exercise, go for a run or a walk\n",
      "Sweat out your worries, talk to yourself, let them all out your balk\n",
      "\n",
      "\n"
     ]
    }
   ],
   "source": [
    "print(chat_transcript)"
   ]
  },
  {
   "cell_type": "markdown",
   "metadata": {},
   "source": [
    "### Initiate System Voice"
   ]
  },
  {
   "cell_type": "code",
   "execution_count": 16,
   "metadata": {},
   "outputs": [
    {
     "data": {
      "text/plain": [
       "0"
      ]
     },
     "execution_count": 16,
     "metadata": {},
     "output_type": "execute_result"
    }
   ],
   "source": [
    "# Getting the computer to say \"hello\"\n",
    "subprocess.call([\"say\", \"hello\"])"
   ]
  }
 ],
 "metadata": {
  "kernelspec": {
   "display_name": "Python 3.10.11 ('constitutionalai')",
   "language": "python",
   "name": "python3"
  },
  "language_info": {
   "codemirror_mode": {
    "name": "ipython",
    "version": 3
   },
   "file_extension": ".py",
   "mimetype": "text/x-python",
   "name": "python",
   "nbconvert_exporter": "python",
   "pygments_lexer": "ipython3",
   "version": "3.10.11"
  },
  "orig_nbformat": 4,
  "vscode": {
   "interpreter": {
    "hash": "0bd56252d6c5758d1b875bff6991d47b0b2ab00925d2ce32c6e3cc5b77768a0c"
   }
  }
 },
 "nbformat": 4,
 "nbformat_minor": 2
}
